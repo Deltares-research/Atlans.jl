{
 "cells": [
  {
   "cell_type": "markdown",
   "metadata": {},
   "source": [
    "---\n",
    "title: \"Build Model\"\n",
    "---"
   ]
  },
  {
   "cell_type": "code",
   "execution_count": null,
   "metadata": {
    "vscode": {
     "languageId": "julia"
    }
   },
   "outputs": [],
   "source": [
    "using Atlans\n",
    "using Dates"
   ]
  },
  {
   "cell_type": "markdown",
   "metadata": {},
   "source": [
    "# Build standard Model with all processes\n",
    "Below, an explanation is given how an Atlantis subsurface model is built"
   ]
  },
  {
   "cell_type": "code",
   "execution_count": null,
   "metadata": {
    "vscode": {
     "languageId": "julia"
    }
   },
   "outputs": [],
   "source": [
    "basedir = \"directory_to_your_project\" \n",
    "\n",
    "path_to_subsurface_model = joinpath(basedir, \"my_subsurface_model.nc\")\n",
    "path_to_parameter_table = joinpath(basedir, \"my_parameter_table.nc\")\n",
    "\n",
    "model = Atlans.Model(\n",
    "    Atlans.HydrostaticGroundwater,\n",
    "    Atlans.DrainingAbcIsotache,\n",
    "    Atlans.CarbonStore,\n",
    "    Atlans.OverConsolidationRatio,\n",
    "    Atlans.NullShrinkage,\n",
    "    Atlans.AdaptiveCellsize(Δzmax, 0.01),\n",
    "    Atlans.ExponentialTimeStepper(1.0, 2),\n",
    "    path_to_subsurface_model,\n",
    "    path_to_parameter_table,\n",
    ")\n"
   ]
  }
 ],
 "metadata": {
  "language_info": {
   "name": "python"
  }
 },
 "nbformat": 4,
 "nbformat_minor": 2
}
