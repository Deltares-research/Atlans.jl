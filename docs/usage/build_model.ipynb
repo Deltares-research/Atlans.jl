{
 "cells": [
  {
   "cell_type": "markdown",
   "metadata": {},
   "source": [
    "---\n",
    "title: \"Run simulations\"\n",
    "---"
   ]
  },
  {
   "cell_type": "markdown",
   "metadata": {},
   "source": [
    "Subsidence calculations in `Atlans` consist of running a Simulation object that contains several parts: a Model, Clock, Forcings and time (start time and stress periods). Below an example is given of how to build and run the Simulation object with all the necessary components. Each Simulation stores an output Netcdf file with the calculated subsidence and individual contributions of consolidation, oxidation and shrinkage. We will start by importing the modules:"
   ]
  },
  {
   "cell_type": "code",
   "execution_count": 1,
   "metadata": {},
   "outputs": [],
   "source": [
    "using Atlans\n",
    "using Dates"
   ]
  },
  {
   "cell_type": "markdown",
   "metadata": {},
   "source": [
    "# Processes to include in the subsidence calculation\n",
    "The first choice a user has to make is which of the processes to include in the subsidence calculations. In part, an `Atlans` Model consists of a collection of SoilColumns that contain a subcolumn for groundwater, consolidation, oxidation and shrinkage (see [Model components](../core/index.qmd)). The processes leading to subsidence are determined at the voxel level. This means: each subcolumn contains the individual voxels with the specific process that will contribute to subsidence that is chosen by the user. \n",
    "\n",
    "Either of the processes, except for groundwater, can be included or excluded from the calculations. Below the options for consolidation, oxidation and shrinkage are given:\n",
    "\n",
    "- Groundwater (mandatory)\n",
    "  - HydrostaticGroundwater\n",
    "- Consolidation\n",
    "  - DrainingABCIsotache\n",
    "  - ABCIsotache\n",
    "  - Koppejan\n",
    "  - NullConsolidation # this type is used to ignore consolidation\n",
    "- Oxidation\n",
    "  - CarbonStore\n",
    "  - ConstantRate\n",
    "  - NullOxidation # this type is used to ignore oxidation\n",
    "- Shrinkage\n",
    "  - SimpleShrinkage\n",
    "  - NullShrinkage # this type is used to ignore shrinkage\n",
    "\n",
    "# Build standard Model with all processes\n",
    "We will build a Model component object that includes all of the processes. This is done using the voxelmodel and parameter table (see [homepage](../index.qmd)), and the chosen processes in the previous step. Additionally, a Model object contains AdaptiveCellsize and ExponentialTimeStepper objects. The AdaptiveCellsize object is an important component in the modelling as this controls splitting of voxels around the groundwater table. The ExponentialTimeStepper object is used to discretize the time steps within each stress period (see [API reference](../build/index.md)).\n",
    "\n",
    "The code cell below shows the example to build a Model with all the processes included in the calculations."
   ]
  },
  {
   "cell_type": "code",
   "execution_count": null,
   "metadata": {},
   "outputs": [],
   "source": [
    "## specify the input voxelmodel and parameter table\n",
    "path_to_subsurface_model = \"my_subsurface_model.nc\"\n",
    "path_to_parameter_table = \"my_parameter_table.nc\"\n",
    "\n",
    "## input for AdaptiveCellsize\n",
    "max_voxel_thickness = 0.25 # m\n",
    "split_tolerance = 0.01 # m\n",
    "\n",
    "## input for Timestepper\n",
    "start_day = 1.0\n",
    "multiplier = 2\n",
    "\n",
    "model = Atlans.Model(\n",
    "    Atlans.HydrostaticGroundwater,\n",
    "    Atlans.DrainingAbcIsotache,\n",
    "    Atlans.CarbonStore,\n",
    "    Atlans.OverConsolidationRatio,\n",
    "    Atlans.SimpleShrinkage,\n",
    "    Atlans.AdaptiveCellsize(max_voxel_thickness, split_tolerance),\n",
    "    Atlans.ExponentialTimeStepper(start_day, multiplier),\n",
    "    path_to_subsurface_model,\n",
    "    path_to_parameter_table,\n",
    ")"
   ]
  },
  {
   "cell_type": "markdown",
   "metadata": {},
   "source": [
    "# Add forcings\n",
    "`Atlans` simulations also need input for Forcings such as water level management (e.g. groundwater table lowering) at each stress period. The input for forcings is a namedtuple containing the names of the forcings as keys and the `Atlans` Forcing objects as values. See the [available]() for the available Forcing mechanisms and [API reference](../build/index.md) for the inputs. \n",
    "\n",
    "The example below shows how to include a single forcing (StageChange) in a Simulation:"
   ]
  },
  {
   "cell_type": "code",
   "execution_count": null,
   "metadata": {},
   "outputs": [],
   "source": [
    "path_to_forcing = \"stage_change.nc\"\n",
    "\n",
    "forcings = (\n",
    "    stage_change=Atlans.StageChange(path_to_forcing)\n",
    ")"
   ]
  },
  {
   "cell_type": "markdown",
   "metadata": {},
   "source": [
    "# Stress periods\n",
    "`Atlans` calculates subsidence over stress periods. A Simulation can be run over one or multiple stress periods. `Atlans` automatically determines the stress periods based on the time dimensions of the input forcings. An additional option is to define additional stess periods which are not in the time dimensions of the forcings, for instance to divide a single stress period in the forcing in smaller time steps.\n",
    "\n",
    "For example: assume that the input StageChange has three stress periods of five years (2025, 2030 and 2035) but smaller time steps are desired in the first stress period. This can be done by providing a Vector containing DateTime objects of the additionally desired time steps:"
   ]
  },
  {
   "cell_type": "code",
   "execution_count": null,
   "metadata": {},
   "outputs": [],
   "source": [
    "# Add yearly stress periods\n",
    "additional_periods = map(\n",
    "    DateTime,\n",
    "    ['2021-01-01', '2022-01-01', '2023-01-01', '2024-01-01']\n",
    ")"
   ]
  },
  {
   "cell_type": "markdown",
   "metadata": {},
   "source": [
    "# Build and run the Simulation\n",
    "The only remaining input for the Simulation is the end date and a destination path of the output netcdf. The end date can be equal to the date of the last forcing period or correspond to an extra forcing period. The input for end date is a DateTime object. Now all the inputs are present and the Simulation object can be built: "
   ]
  },
  {
   "cell_type": "code",
   "execution_count": null,
   "metadata": {},
   "outputs": [],
   "source": [
    "output_path = \"output.nc\"\n",
    "stop_time = DateTime(\"2040-01-01\") # Chosen end date is an extra forcing period\n",
    "\n",
    "simulation = Atlans.Simulation(\n",
    "    model,\n",
    "    output_path,\n",
    "    stop_time,\n",
    "    forcings,\n",
    "    additional_periods\n",
    ")"
   ]
  },
  {
   "cell_type": "markdown",
   "metadata": {},
   "source": [
    "Finally, the Simulation can be run by:"
   ]
  },
  {
   "cell_type": "code",
   "execution_count": null,
   "metadata": {},
   "outputs": [],
   "source": [
    "Atlans.run!(simulation)"
   ]
  }
 ],
 "metadata": {
  "kernelspec": {
   "display_name": "Julia 1.9.3",
   "language": "julia",
   "name": "julia-1.9"
  },
  "language_info": {
   "file_extension": ".jl",
   "mimetype": "application/julia",
   "name": "julia",
   "version": "1.9.3"
  }
 },
 "nbformat": 4,
 "nbformat_minor": 2
}
